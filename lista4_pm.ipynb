{
 "cells": [
  {
   "cell_type": "markdown",
   "id": "3032537c-e7a6-4c70-aeb6-3a71726ada86",
   "metadata": {},
   "source": [
    "# LISTA 4"
   ]
  },
  {
   "cell_type": "markdown",
   "id": "98fa93bb-f943-43e9-8cc7-255c431dab8c",
   "metadata": {},
   "source": [
    "Zadanie $1$"
   ]
  },
  {
   "cell_type": "markdown",
   "id": "d4a81a2f-1781-44ae-85b3-6585e6ed9ed9",
   "metadata": {},
   "source": [
    "Napisz funkcję znajdującą (z zadaną dokładnością) miejsce zerowe zadanej przez użytkownika funkcji w zadanym przedziale metodą bisekcji."
   ]
  },
  {
   "cell_type": "code",
   "execution_count": 1,
   "id": "ae0452e6-c470-471a-8148-3e88548e1b35",
   "metadata": {},
   "outputs": [],
   "source": [
    "import numpy as np\n",
    "import matplotlib.pyplot as plt\n",
    "import sympy.solvers as sol\n",
    "import sympy as sym\n",
    "import numpy as np\n",
    "from sympy import Symbol\n",
    "import math\n",
    "from scipy import misc\n"
   ]
  },
  {
   "cell_type": "code",
   "execution_count": 2,
   "id": "10b88b30-6e9b-4e25-b366-3e1341197fee",
   "metadata": {},
   "outputs": [],
   "source": [
    "def bisekcja(f, a, b, tol): \n",
    "    #za f podstawiamy wzór funkcji, którą chcemy obliczyć, stosujemy komendę lambda\n",
    "    # a i b to kolejno lewy i prawy koniec sprawdzanego przedziału (to jest przedział domknięty)\n",
    "    #określenie rozwinięcia dzisiętnego\n",
    "    \n",
    "    # sprawdzamy znak wartości funkcji w punkcie a i b\n",
    "    if np.sign(f(a)) == np.sign(f(b)):\n",
    "        return \"Nie można zastosować tutaj metody bisekcji\"\n",
    "        \n",
    "    # punkt środkowy między a i b\n",
    "    m = (a + b)/2\n",
    "    \n",
    "    #określenie rozwinięcia dziesiętnego\n",
    "    if np.abs(f(m)) < tol:\n",
    "        return m\n",
    "    \n",
    "    elif np.sign(f(a)) == np.sign(f(m)):\n",
    "        return bisekcja(f, m, b, tol)\n",
    "    \n",
    "    elif np.sign(f(b)) == np.sign(f(m)):\n",
    "        return bisekcja(f, a, m, tol)"
   ]
  },
  {
   "cell_type": "code",
   "execution_count": 3,
   "id": "f260c884-9e7d-40a2-8b60-05ea4e8853dc",
   "metadata": {},
   "outputs": [
    {
     "data": {
      "text/plain": [
       "1.259765625"
      ]
     },
     "execution_count": 3,
     "metadata": {},
     "output_type": "execute_result"
    }
   ],
   "source": [
    "bisekcja(lambda x: x**3 - 2, -2, 2, 0.001)"
   ]
  },
  {
   "cell_type": "markdown",
   "id": "ca1d3acc-8f92-4357-be86-a0e6a0afe00b",
   "metadata": {},
   "source": [
    "Przykładowe funkcje obliczone metodą bisekcji:"
   ]
  },
  {
   "cell_type": "code",
   "execution_count": 4,
   "id": "08ff2a06-2f10-4b46-b1e3-7de1a660e2a1",
   "metadata": {},
   "outputs": [
    {
     "data": {
      "text/plain": [
       "[<matplotlib.lines.Line2D at 0x7fbd78365220>]"
      ]
     },
     "execution_count": 4,
     "metadata": {},
     "output_type": "execute_result"
    },
    {
     "data": {
      "image/png": "[encoded data removed]",
      "text/plain": [
       "<Figure size 432x288 with 1 Axes>"
      ]
     },
     "metadata": {
      "needs_background": "light"
     },
     "output_type": "display_data"
    }
   ],
   "source": [
    "f= lambda x: x**2 - 2\n",
    "x1 = bisekcja(f, 0, 2, 0.01)\n",
    "x2 = bisekcja(f, -2, 0, 0.01)\n",
    "x = np.linspace(-4.0, 4.0, 1000)\n",
    "ax = plt.gca()\n",
    "for line in [\"left\", \"right\", \"bottom\", \"top\"]:\n",
    "    ax.spines[line].set_visible(False)\n",
    "ax.plot((1), (0), ls=\"\", marker=\">\", ms=5, color=\"k\", transform=ax.get_yaxis_transform(), clip_on=False)\n",
    "ax.plot((0), (1), ls=\"\", marker=\"^\", ms=5, color=\"k\", transform=ax.get_xaxis_transform(), clip_on=False)\n",
    "ax.axhline(0, color='black',linewidth=1)\n",
    "ax.axvline(0, color='black', linewidth=1)\n",
    "plt.grid()\n",
    "plt.plot(x, f(x), color = \"green\")\n",
    "plt.title('Metoda Bisekcji: Wykres funkcji $f(x) = x^2 - 2$.')\n",
    "plt.plot(x1,0, \"o\", c = 'C3')\n",
    "plt.plot(x2,0, \"o\", c= 'C3')"
   ]
  },
  {
   "cell_type": "code",
   "execution_count": 5,
   "id": "40033b73-8d28-4e8b-a978-4c788f641c03",
   "metadata": {},
   "outputs": [
    {
     "data": {
      "text/plain": [
       "1.4141845703125"
      ]
     },
     "execution_count": 5,
     "metadata": {},
     "output_type": "execute_result"
    }
   ],
   "source": [
    "funkcja = lambda x: x**2 - 2\n",
    "od = 0.\n",
    "do = 2.0\n",
    "t = 0.0001\n",
    "\n",
    "bisekcja(funkcja, od, do, t)"
   ]
  },
  {
   "cell_type": "code",
   "execution_count": 6,
   "id": "bdd5c88d-bb55-4d2a-a011-0b1a3db9fb03",
   "metadata": {},
   "outputs": [
    {
     "data": {
      "text/plain": [
       "'Nie można zastosować tutaj metody bisekcji'"
      ]
     },
     "execution_count": 6,
     "metadata": {},
     "output_type": "execute_result"
    }
   ],
   "source": [
    "funkcja = lambda x: x**2 - 2\n",
    "od = -2.0\n",
    "do = 2.0\n",
    "t = 0.0001\n",
    "\n",
    "bisekcja(funkcja, od, do, t) #tu nie działa, bo nie policzy dwóch miejsc zerowych na raz"
   ]
  },
  {
   "cell_type": "markdown",
   "id": "c9ec5396-7e24-4b9b-9caa-8a2718334d74",
   "metadata": {},
   "source": [
    "Zadanie $2$"
   ]
  },
  {
   "cell_type": "markdown",
   "id": "d151f6ee-68bb-40d1-a31a-57b2f502d21d",
   "metadata": {},
   "source": [
    "Napisz funkcję znajdująca (w przybliżeniu) miejsca zerowe zadanej przez użytkownika funkcji \"w pobliżu\" podanego punktu metodą startową metodą Newtona. Optymalne rozwiązywanie rysuje kolejne etapy znajdowania rozwiązania (styczne od punktu styczności do punktu przecięcia z osią OX)"
   ]
  },
  {
   "cell_type": "code",
   "execution_count": 7,
   "id": "9aa39ac1-5555-425f-81dc-5aabdd2b4f52",
   "metadata": {},
   "outputs": [
    {
     "name": "stdout",
     "output_type": "stream",
     "text": [
      "x:  1\n",
      "x0:  1.4142156862745099\n",
      "f(x0) =  6.007304882871267e-06\n",
      "x:  -1\n",
      "x0:  -1.4142156862745099\n",
      "f(x0) =  6.007304882871267e-06\n"
     ]
    }
   ],
   "source": [
    "def newton1(f, x, tolerancja=0.001):\n",
    "    while True:\n",
    "        x1 = x - f(x) / misc.derivative(f, x) \n",
    "        t = abs(x1 - x)\n",
    "        if t < tolerancja:\n",
    "            break\n",
    "        x = x1\n",
    "    return x\n",
    "\n",
    "\n",
    "def f(x):\n",
    "    return x**2 - 2\n",
    "\n",
    "x = 1\n",
    "\n",
    "x0 = newton1(f, x)\n",
    "\n",
    "print('x: ', x)\n",
    "print('x0: ', x0)\n",
    "print(\"f(x0) = \", (x0**2 - 2))\n",
    "\n",
    "x = -1\n",
    "\n",
    "x0 = newton1(f, x)\n",
    "\n",
    "print('x: ', x)\n",
    "print('x0: ', x0)\n",
    "print(\"f(x0) = \", (x0**2 - 2))"
   ]
  },
  {
   "cell_type": "code",
   "execution_count": 8,
   "id": "8c7fecbe-1bcb-49a1-b363-e75155fd2b4d",
   "metadata": {},
   "outputs": [
    {
     "data": {
      "text/plain": [
       "[<matplotlib.lines.Line2D at 0x7fbd78470af0>]"
      ]
     },
     "execution_count": 8,
     "metadata": {},
     "output_type": "execute_result"
    },
    {
     "data": {
      "image/png": "[encoded data removed]",
      "text/plain": [
       "<Figure size 432x288 with 1 Axes>"
      ]
     },
     "metadata": {
      "needs_background": "light"
     },
     "output_type": "display_data"
    }
   ],
   "source": [
    "y= lambda x: x**2 - 2\n",
    "x1 = newton1(f, -1, 0.01)\n",
    "x2 = newton1(f, 1, 0.01)\n",
    "x = np.linspace(-4.0, 4.0, 1000)\n",
    "ax = plt.gca()\n",
    "for line in [\"left\", \"right\", \"bottom\", \"top\"]:\n",
    "    ax.spines[line].set_visible(False)\n",
    "ax.plot((1), (0), ls=\"\", marker=\">\", ms=5, color=\"k\", transform=ax.get_yaxis_transform(), clip_on=False)\n",
    "ax.plot((0), (1), ls=\"\", marker=\"^\", ms=5, color=\"k\", transform=ax.get_xaxis_transform(), clip_on=False)\n",
    "ax.axhline(0, color='black',linewidth=1)\n",
    "ax.axvline(0, color='black', linewidth=1)\n",
    "plt.grid()\n",
    "plt.plot(x, f(x), color = \"violet\")\n",
    "plt.title('Metoda Newtona: Wykres funkcji $f(x) = x^2 - 2$.')\n",
    "plt.plot(x1,0, \"o\", c = 'C3')\n",
    "plt.plot(x2,0, \"o\", c= 'C3')"
   ]
  },
  {
   "cell_type": "markdown",
   "id": "c684b51a-9d3f-4fdd-ac23-dee5b54fca38",
   "metadata": {},
   "source": [
    "Zadanie $3$"
   ]
  },
  {
   "cell_type": "markdown",
   "id": "c0c4b08d-1e84-4da6-af8f-29ae890bc8a4",
   "metadata": {},
   "source": [
    "Wykorzystaj obie napisane funkcje do rozwiązania równania $x-2 = lnx$, a następnie porównaj otrzymane wyniki z rozwiązaniem uzyskanym wbudowaną funkcją *solve*."
   ]
  },
  {
   "cell_type": "code",
   "execution_count": 9,
   "id": "7ef1a974-9967-43f1-b05e-2542505e6755",
   "metadata": {},
   "outputs": [
    {
     "name": "stdout",
     "output_type": "stream",
     "text": [
      " x1= 0.15625 , \n",
      " x2= 3.25\n"
     ]
    },
    {
     "data": {
      "text/plain": [
       "[<matplotlib.lines.Line2D at 0x7fbda84d39d0>]"
      ]
     },
     "execution_count": 9,
     "metadata": {},
     "output_type": "execute_result"
    },
    {
     "data": {
      "image/png": "[encoded data removed]",
      "text/plain": [
       "<Figure size 432x288 with 1 Axes>"
      ]
     },
     "metadata": {
      "needs_background": "light"
     },
     "output_type": "display_data"
    }
   ],
   "source": [
    "#sposób z wykorzystaniem funkcji \"bisekcja\"\n",
    "ln = lambda x: x - 2 - np.log(x)\n",
    "print(\" x1=\",bisekcja(ln, 0.1, 1, 0.1), \", \\n\",\"x2=\", bisekcja(ln, 3, 4, 0.1))\n",
    "x1 = bisekcja(ln, 0.1, 1, 0.01)\n",
    "x2 = bisekcja(ln, 3, 4, 0.01)\n",
    "x = np.linspace(0.1, 4.0, 1000)\n",
    "ax = plt.gca()\n",
    "for line in [\"left\", \"right\", \"bottom\", \"top\"]:\n",
    "    ax.spines[line].set_visible(False)\n",
    "ax.plot((1), (0), ls=\"\", marker=\">\", ms=5, color=\"k\", transform=ax.get_yaxis_transform(), clip_on=False)\n",
    "ax.plot((0), (1), ls=\"\", marker=\"^\", ms=5, color=\"k\", transform=ax.get_xaxis_transform(), clip_on=False)\n",
    "ax.axhline(0, color='black',linewidth=1)\n",
    "ax.axvline(0, color='black', linewidth=1)\n",
    "plt.grid()\n",
    "plt.plot(x, ln(x), color = \"green\")\n",
    "plt.title('Wykres funkcji $f(x) = x -2 - ln(x)$.')\n",
    "plt.plot(x1,0, \"o\", c = 'C3')\n",
    "plt.plot(x2,0, \"o\", c= 'C3')"
   ]
  },
  {
   "cell_type": "code",
   "execution_count": 10,
   "id": "58d657b9-bf4d-4a93-9792-e148c20ac22a",
   "metadata": {
    "jupyter": {
     "source_hidden": true
    },
    "tags": []
   },
   "outputs": [
    {
     "data": {
      "text/plain": [
       "[<matplotlib.lines.Line2D at 0x7fbd78582670>]"
      ]
     },
     "execution_count": 10,
     "metadata": {},
     "output_type": "execute_result"
    },
    {
     "data": {
      "image/png": "[encoded data removed]",
      "text/plain": [
       "<Figure size 432x288 with 1 Axes>"
      ]
     },
     "metadata": {
      "needs_background": "light"
     },
     "output_type": "display_data"
    }
   ],
   "source": [
    "y= lambda x: x - 2 - np.log(x)\n",
    "x1 = newton1(f, 3, 0.01)\n",
    "x2 = newton1(f, -1, 0.01)\n",
    "x = np.linspace(-4.0, 4.0, 1000)\n",
    "ax = plt.gca()\n",
    "for line in [\"left\", \"right\", \"bottom\", \"top\"]:\n",
    "    ax.spines[line].set_visible(False)\n",
    "ax.plot((1), (0), ls=\"\", marker=\">\", ms=5, color=\"k\", transform=ax.get_yaxis_transform(), clip_on=False)\n",
    "ax.plot((0), (1), ls=\"\", marker=\"^\", ms=5, color=\"k\", transform=ax.get_xaxis_transform(), clip_on=False)\n",
    "ax.axhline(0, color='black',linewidth=1)\n",
    "ax.axvline(0, color='black', linewidth=1)\n",
    "plt.grid()\n",
    "plt.plot(x, f(x), color = \"violet\")\n",
    "plt.title('Metoda Newtona: Wykres funkcji $f(x) = x^2 - 2$.')\n",
    "plt.plot(x1,0, \"o\", c = 'C3')\n",
    "plt.plot(x2,0, \"o\", c= 'C3')"
   ]
  },
  {
   "cell_type": "code",
   "execution_count": 11,
   "id": "6d2ac742-a6c5-4aef-be6e-be3c73bf6198",
   "metadata": {},
   "outputs": [
    {
     "name": "stdout",
     "output_type": "stream",
     "text": [
      "[-sqrt(2), sqrt(2)]\n",
      "[1, -LambertW(-2*exp(-2))/2]\n"
     ]
    }
   ],
   "source": [
    "#sposób z wykorzystaniem funkcji \"solve\"\n",
    "x = Symbol('x')\n",
    "y1=sol.solve(x**2 - 2, x)\n",
    "print(y1) #dla paraboli działa\n",
    "y2 = sol.solve(x - 2 - sym.log(x) + x)\n",
    "print(y2) #dla tej śmieszej funkcji działa, ale po swojemu"
   ]
  },
  {
   "cell_type": "code",
   "execution_count": 12,
   "id": "1cefab38-7d4e-4870-b00a-35059fdc44e3",
   "metadata": {},
   "outputs": [
    {
     "name": "stdout",
     "output_type": "stream",
     "text": [
      "x:  3.5\n",
      "x0:  3.149858806229873\n",
      "f(x0) =  7.921610499183881\n"
     ]
    }
   ],
   "source": [
    "#sposób z wykorzystaniem funkcji \"newton\"\n",
    "def newton(f, x, tolerancja=0.1):\n",
    "    while True:\n",
    "        dx = misc.derivative(f, x) \n",
    "        x1 = ((x * dx) - f(x))/dx\n",
    "        t = abs(x1 - x)\n",
    "        if t < tolerancja:\n",
    "            break\n",
    "        x = x1\n",
    "    return x\n",
    "\n",
    "\n",
    "def f(x):\n",
    "    return x - 2 - np.log(x)\n",
    "\n",
    "x = 3.5\n",
    "x0 = newton(f, x)\n",
    "\n",
    "print('x: ', x)\n",
    "print('x0: ', x0)\n",
    "print(\"f(x0) = \", (x0**2 - 2))\n",
    "\n",
    "#x = 5\n",
    "\n",
    "#x0 = newton(f, x)\n",
    "\n",
    "#print('x: ', x)\n",
    "#print('x0: ', x0)\n",
    "#print(\"f(x0) = \", (x0**2 - 2))\n"
   ]
  },
  {
   "cell_type": "markdown",
   "id": "8c285bc1-4d17-4b6b-a8c0-b710452f3c7d",
   "metadata": {},
   "source": [
    "Zadanie $4$"
   ]
  },
  {
   "cell_type": "markdown",
   "id": "88fb6390-9642-4935-9ebc-7a7e892d1d34",
   "metadata": {},
   "source": [
    "Wykorzystaj obie napisane funkcje do wyznaczenia graficznie rzędów obu metod (metody bisekcji oraz metody Newtona)."
   ]
  },
  {
   "cell_type": "code",
   "execution_count": 25,
   "id": "53b9be4f-c877-4877-9e1e-70895979677c",
   "metadata": {},
   "outputs": [],
   "source": [
    "global iks\n",
    "def bisekcja(f, a, b, tol): \n",
    "    #za f podstawiamy wzór funkcji, którą chcemy obliczyć, stosujemy komendę lambda\n",
    "    # a i b to kolejno lewy i prawy koniec sprawdzanego przedziału (to jest przedział domknięty)\n",
    "    #określenie rozwinięcia dzisiętnego\n",
    "    # sprawdzamy znak wartości funkcji w punkcie a i b\n",
    "    if np.sign(f(a)) == np.sign(f(b)):\n",
    "        return \"Nie można zastosować tutaj metody bisekcji\"\n",
    "        \n",
    "    # punkt środkowy między a i b\n",
    "    m = (a + b)/2\n",
    "    iks.append(m)\n",
    "    #określenie rozwinięcia dziesiętnego\n",
    "    if np.abs(f(m)) < tol:\n",
    "        return iks\n",
    "    \n",
    "    elif np.sign(f(a)) == np.sign(f(m)):\n",
    "\n",
    "        return bisekcja(f, m, b, tol)\n",
    "        \n",
    "    elif np.sign(f(b)) == np.sign(f(m)):\n",
    "        return bisekcja(f, a, m, tol)"
   ]
  },
  {
   "cell_type": "code",
   "execution_count": 26,
   "id": "c88f7ef6-01f2-45e6-b69f-ad766baf3b71",
   "metadata": {},
   "outputs": [
    {
     "name": "stdout",
     "output_type": "stream",
     "text": [
      "[1.5, 2.25, 1.875, 2.0625, 1.96875, 2.015625, 1.5, 2.25, 1.875, 2.0625, 1.96875, 2.015625, 1.5, 2.25, 1.875, 2.0625, 1.96875, 2.015625]\n"
     ]
    }
   ],
   "source": [
    "x = bisekcja(lambda x: x**2 - 4, 0, 3, 0.1)\n",
    "print(x)"
   ]
  },
  {
   "cell_type": "code",
   "execution_count": 27,
   "id": "dc3b8970-bbab-42a7-bf19-1e03f1ff934a",
   "metadata": {},
   "outputs": [
    {
     "data": {
      "image/png": "[encoded data removed]",
      "text/plain": [
       "<Figure size 432x288 with 1 Axes>"
      ]
     },
     "metadata": {
      "needs_background": "light"
     },
     "output_type": "display_data"
    }
   ],
   "source": [
    "f = lambda a : x**2 - 4\n",
    "alfa=2\n",
    "y=[np.log(abs(x[i+1]-alfa))/np.log(abs(x[i]-alfa)) for i in range(0,7)]\n",
    "plt.plot(y)\n",
    "plt.show()\n",
    "\n",
    "#alfa2= -2\n",
    "#fp = lambda a : x - a - np.log(a)"
   ]
  },
  {
   "cell_type": "code",
   "execution_count": 6,
   "id": "0a71b41f-f193-4c69-87ad-2c271e748a5b",
   "metadata": {},
   "outputs": [
    {
     "name": "stdout",
     "output_type": "stream",
     "text": [
      "x:  15\n",
      "[2.9, 2.1396551724137933, 2.0045576426130207, 2.0000051812194735, 2.9, 2.1396551724137933, 2.0045576426130207, 2.0000051812194735]\n"
     ]
    }
   ],
   "source": [
    "global X\n",
    "def newton(f, x, tolerancja=0.1):\n",
    "    while True:\n",
    "        dx = misc.derivative(f, x) \n",
    "        x1 = ((x * dx) - f(x))/dx\n",
    "        t = abs(x1 - x)\n",
    "        if t < tolerancja:\n",
    "            break\n",
    "        x = x1\n",
    "        \n",
    "    return X\n",
    "\n",
    "\n",
    "def f(x):\n",
    "    return x**2 - 4\n",
    "\n",
    "x = 15\n",
    "x0 = newton(f, x)\n",
    "\n",
    "print('x: ', x)\n",
    "#print('x0: ', x0)\n",
    "#print(\"f(x0) = \", (x0**2 - 2))\n",
    "print(X)\n",
    "\n"
   ]
  },
  {
   "cell_type": "code",
   "execution_count": 8,
   "id": "8e966d5c-8964-4787-aa03-c37cd0196d13",
   "metadata": {},
   "outputs": [
    {
     "data": {
      "image/png": "[encoded data removed]",
      "text/plain": [
       "<Figure size 432x288 with 1 Axes>"
      ]
     },
     "metadata": {
      "needs_background": "light"
     },
     "output_type": "display_data"
    }
   ],
   "source": [
    "f = lambda a : x**2 - 4\n",
    "alfa=2\n",
    "y=[np.log(abs(x0[i+1]-alfa))/np.log(abs(x0[i]-alfa)) for i in range(0,7)]\n",
    "plt.plot(y)\n",
    "plt.show()"
   ]
  },
  {
   "cell_type": "markdown",
   "id": "24f8fd84-2ade-414b-8d1f-5fa4f8a299b1",
   "metadata": {},
   "source": [
    "Zadanie $5$"
   ]
  },
  {
   "cell_type": "markdown",
   "id": "fcf2eeab-d2e0-41c2-9ff0-d93a950686cd",
   "metadata": {},
   "source": [
    "Zainstaluj pakiet SageMath"
   ]
  }
 ],
 "metadata": {
  "kernelspec": {
   "display_name": "Python 3",
   "language": "python",
   "name": "python3"
  },
  "language_info": {
   "codemirror_mode": {
    "name": "ipython",
    "version": 3
   },
   "file_extension": ".py",
   "mimetype": "text/x-python",
   "name": "python",
   "nbconvert_exporter": "python",
   "pygments_lexer": "ipython3",
   "version": "3.8.8"
  }
 },
 "nbformat": 4,
 "nbformat_minor": 5
}
