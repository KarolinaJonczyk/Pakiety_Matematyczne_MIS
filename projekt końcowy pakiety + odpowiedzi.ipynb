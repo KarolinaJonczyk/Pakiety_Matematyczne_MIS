{
 "cells": [
  {
   "cell_type": "markdown",
   "metadata": {},
   "source": [
    "## 8.6. \"Korzystając z reguł różniczkowania obliczyć pochodne funkcji\" - generujemy ilorazy losowych wielomianów do zadania 8.6.\n",
    "\n",
    "wszystkie ważne równania generuję do latex'a"
   ]
  },
  {
   "cell_type": "markdown",
   "metadata": {},
   "source": [
    "Karolina Jonczyk, numer indeksu: 253737"
   ]
  },
  {
   "cell_type": "code",
   "execution_count": 13,
   "metadata": {},
   "outputs": [],
   "source": [
    "a = choice([0,1,2,3,4,5])\n",
    "n = a\n",
    "b = choice([-1,-2,-3,-4,-5,-6,-7,-8,-9,-10,-11,-12,-13,-14,-15,-16,-17,-18,-19,-20,0,1,2,3,4,5,6,7,8,9,10,11,12,13,14,15,16,17,18,19,20])\n",
    "c = choice([-1,-2,-3,-4,-5,-6,-7,-8,-9,-10,-11,-12,-13,-14,-15,-16,-17,-18,-19,-20,0,1,2,3,4,5,6,7,8,9,10,11,12,13,14,15,16,17,18,19,20])\n",
    "f(x) = (b*x^a + c)^n"
   ]
  },
  {
   "cell_type": "code",
   "execution_count": 14,
   "metadata": {},
   "outputs": [
    {
     "data": {
      "text/plain": [
       "x |--> -x + 15"
      ]
     },
     "execution_count": 14,
     "metadata": {},
     "output_type": "execute_result"
    }
   ],
   "source": [
    "f #\"zwinięty\" wielomian \n",
    "f"
   ]
  },
  {
   "cell_type": "code",
   "execution_count": 15,
   "metadata": {},
   "outputs": [
    {
     "data": {
      "text/plain": [
       "x \\ {\\mapsto}\\ -x + 15"
      ]
     },
     "execution_count": 15,
     "metadata": {},
     "output_type": "execute_result"
    }
   ],
   "source": [
    "latex(f)"
   ]
  },
  {
   "cell_type": "code",
   "execution_count": 16,
   "metadata": {},
   "outputs": [],
   "source": [
    "g(x)=choice([(x^2 + 1)/(x-1), 3*cos(x) + tan(x), e^(x+1)/sin(x), (x^3 + 1/x^2)*e^x, (1 + x^(1/4))*tan(x^(1/2)), e^x * arctan(x),ln((sin(x))^2 + 1), sqrt(arcsin(x^2)), e^(e^x), (2^(sin(x))^2)/(3^(cos(x))^2), x^(tan(x)), x^(1/x)])"
   ]
  },
  {
   "cell_type": "code",
   "execution_count": 17,
   "metadata": {},
   "outputs": [
    {
     "data": {
      "text/plain": [
       "x |--> 2^(x + 1)/sin(x)"
      ]
     },
     "execution_count": 17,
     "metadata": {},
     "output_type": "execute_result"
    }
   ],
   "source": [
    "g #wybór elementu z listy funkcji (inspiracja z zadania 8.6.)"
   ]
  },
  {
   "cell_type": "code",
   "execution_count": 18,
   "metadata": {},
   "outputs": [
    {
     "data": {
      "text/plain": [
       "x \\ {\\mapsto}\\ \\frac{2^{x + 1}}{\\sin\\left(x\\right)}"
      ]
     },
     "execution_count": 18,
     "metadata": {},
     "output_type": "execute_result"
    }
   ],
   "source": [
    "latex(g)"
   ]
  },
  {
   "cell_type": "code",
   "execution_count": 19,
   "metadata": {},
   "outputs": [
    {
     "data": {
      "text/plain": [
       "x |--> -(x - 15)*sin(x)/2^(x + 1)"
      ]
     },
     "execution_count": 19,
     "metadata": {},
     "output_type": "execute_result"
    }
   ],
   "source": [
    "f*(g^(-1)) #gotowy iloraz wielomianów f(x) i g(x) - jeśli chcemy \"zwinięty\" wielomian f"
   ]
  },
  {
   "cell_type": "code",
   "execution_count": 20,
   "metadata": {},
   "outputs": [
    {
     "data": {
      "text/plain": [
       "x \\ {\\mapsto}\\ -\\frac{{\\left(x - 15\\right)} \\sin\\left(x\\right)}{2^{x + 1}}"
      ]
     },
     "execution_count": 20,
     "metadata": {},
     "output_type": "execute_result"
    }
   ],
   "source": [
    "latex(f*(g^(-1)))"
   ]
  },
  {
   "cell_type": "code",
   "execution_count": 21,
   "metadata": {},
   "outputs": [],
   "source": [
    "fe= expand(f) #\"rozwinięta\" wersja wielomianu f(x)"
   ]
  },
  {
   "cell_type": "code",
   "execution_count": 22,
   "metadata": {},
   "outputs": [
    {
     "data": {
      "text/plain": [
       "x |--> -x + 15"
      ]
     },
     "execution_count": 22,
     "metadata": {},
     "output_type": "execute_result"
    }
   ],
   "source": [
    "fe #gotowy iloraz wielomianów f(x) i g(x) - jeśli chcemy \"rozwinięty\" wielomian f"
   ]
  },
  {
   "cell_type": "code",
   "execution_count": 23,
   "metadata": {},
   "outputs": [
    {
     "data": {
      "text/plain": [
       "x \\ {\\mapsto}\\ -x + 15"
      ]
     },
     "execution_count": 23,
     "metadata": {},
     "output_type": "execute_result"
    }
   ],
   "source": [
    "latex(fe)"
   ]
  },
  {
   "cell_type": "code",
   "execution_count": 24,
   "metadata": {},
   "outputs": [
    {
     "data": {
      "text/plain": [
       "x |--> -(x - 15)*sin(x)/2^(x + 1)"
      ]
     },
     "execution_count": 24,
     "metadata": {},
     "output_type": "execute_result"
    }
   ],
   "source": [
    "fe*(g^(-1)) "
   ]
  },
  {
   "cell_type": "code",
   "execution_count": 25,
   "metadata": {},
   "outputs": [
    {
     "data": {
      "text/plain": [
       "x \\ {\\mapsto}\\ -\\frac{{\\left(x - 15\\right)} \\sin\\left(x\\right)}{2^{x + 1}}"
      ]
     },
     "execution_count": 25,
     "metadata": {},
     "output_type": "execute_result"
    }
   ],
   "source": [
    "latex(fe*(g^(-1)))"
   ]
  },
  {
   "cell_type": "code",
   "execution_count": 27,
   "metadata": {},
   "outputs": [
    {
     "data": {
      "text/plain": [
       "x |--> (x - 15)*log(2)*sin(x)/2^(x + 1) - (x - 15)*cos(x)/2^(x + 1) - sin(x)/2^(x + 1)"
      ]
     },
     "execution_count": 27,
     "metadata": {},
     "output_type": "execute_result"
    }
   ],
   "source": [
    "derivative(fe*(g^(-1))) #odpowiedź dla f rozwiniętego"
   ]
  },
  {
   "cell_type": "code",
   "execution_count": 28,
   "metadata": {},
   "outputs": [
    {
     "data": {
      "text/plain": [
       "x |--> (x - 15)*log(2)*sin(x)/2^(x + 1) - (x - 15)*cos(x)/2^(x + 1) - sin(x)/2^(x + 1)"
      ]
     },
     "execution_count": 28,
     "metadata": {},
     "output_type": "execute_result"
    }
   ],
   "source": [
    "derivative(fe*(g^(-1))) #odpowiedź dla f zwiniętego -- będzie taka sama"
   ]
  },
  {
   "cell_type": "markdown",
   "metadata": {},
   "source": [
    "## 12.2 \"Korzystając z twierdzenia o całkowaniu przez części obliczyć całki nieoznaczone\" - generujemy iloczyn dwóch różnych funkcji postaci sin(ax), cos(bx), exp(cx), gdzie a, b i c to małe liczby całkowite do zadania 12.2."
   ]
  },
  {
   "cell_type": "code",
   "execution_count": 3,
   "metadata": {},
   "outputs": [],
   "source": [
    "a=choice([-5, -4, -3, -2, -1, 1, 2, 3, 4, 5])\n",
    "d=choice([-2,-1,1,2,3])"
   ]
  },
  {
   "cell_type": "code",
   "execution_count": 4,
   "metadata": {},
   "outputs": [],
   "source": [
    "b=choice([2, 3, 4])\n",
    "e=choice([-3,2,3,-2])"
   ]
  },
  {
   "cell_type": "code",
   "execution_count": 5,
   "metadata": {},
   "outputs": [],
   "source": [
    "c=choice([-4, -2, 2, 4])\n",
    "f=choice([-6,-4,-2,2,4,6])"
   ]
  },
  {
   "cell_type": "code",
   "execution_count": 6,
   "metadata": {},
   "outputs": [
    {
     "data": {
      "text/plain": [
       "x |--> e^(-2*x)"
      ]
     },
     "execution_count": 6,
     "metadata": {},
     "output_type": "execute_result"
    }
   ],
   "source": [
    "h(x)=choice([sin(a*x),cos(b*x),exp(c*x)])\n",
    "h"
   ]
  },
  {
   "cell_type": "code",
   "execution_count": 7,
   "metadata": {},
   "outputs": [
    {
     "data": {
      "text/plain": [
       "x \\ {\\mapsto}\\ e^{\\left(-2 \\, x\\right)}"
      ]
     },
     "execution_count": 7,
     "metadata": {},
     "output_type": "execute_result"
    }
   ],
   "source": [
    "latex(h)"
   ]
  },
  {
   "cell_type": "code",
   "execution_count": 8,
   "metadata": {},
   "outputs": [
    {
     "data": {
      "text/plain": [
       "x |--> e^(-6*x)"
      ]
     },
     "execution_count": 8,
     "metadata": {},
     "output_type": "execute_result"
    }
   ],
   "source": [
    "k(x)=choice([sin(d*x),cos(e*x),exp(f*x)])\n",
    "k"
   ]
  },
  {
   "cell_type": "code",
   "execution_count": 9,
   "metadata": {},
   "outputs": [
    {
     "data": {
      "text/plain": [
       "x \\ {\\mapsto}\\ e^{\\left(-6 \\, x\\right)}"
      ]
     },
     "execution_count": 9,
     "metadata": {},
     "output_type": "execute_result"
    }
   ],
   "source": [
    "latex(k)"
   ]
  },
  {
   "cell_type": "code",
   "execution_count": 10,
   "metadata": {},
   "outputs": [
    {
     "data": {
      "text/plain": [
       "x |--> e^(-8*x)"
      ]
     },
     "execution_count": 10,
     "metadata": {},
     "output_type": "execute_result"
    }
   ],
   "source": [
    "h*k #gotowy iloczyn funkcji h(x) i k(x)"
   ]
  },
  {
   "cell_type": "code",
   "execution_count": 11,
   "metadata": {},
   "outputs": [
    {
     "data": {
      "text/plain": [
       "x \\ {\\mapsto}\\ e^{\\left(-8 \\, x\\right)}"
      ]
     },
     "execution_count": 11,
     "metadata": {},
     "output_type": "execute_result"
    }
   ],
   "source": [
    "latex(h*k)"
   ]
  },
  {
   "cell_type": "code",
   "execution_count": 12,
   "metadata": {},
   "outputs": [
    {
     "data": {
      "text/plain": [
       "x |--> -1/8*e^(-8*x)"
      ]
     },
     "execution_count": 12,
     "metadata": {},
     "output_type": "execute_result"
    }
   ],
   "source": [
    "(h*k).integral(x) #odpowiedź końcowa"
   ]
  },
  {
   "cell_type": "markdown",
   "metadata": {},
   "source": [
    "## 14.1 \"Obliczyć pola obszarów ograniczonych krzywymi\" -  generator wzoru funkcji krzywych: paraboli i prostej (z ilustracją) - punkty przecięcia całkowite, do obliczania pola ograniczonego przez te dwie krzywe dla zadania 14.1.\n"
   ]
  },
  {
   "cell_type": "code",
   "execution_count": 89,
   "metadata": {},
   "outputs": [],
   "source": [
    "wsp=choice([-4,-3,-2,-1,1,2,3,4]) #współczynnik kierunkowy\n",
    "x1=choice([-5,-4,-3,-2,-1,0]) #pierwsze miejsce zerowe lub jego brak jeśli x1=0\n",
    "x2= choice([0,1,2,3,4,5,6]) #drugie miejsce zerowe lub pierwsze jeśli x1=0\n",
    "p(x)= wsp*(x-x1)*(x-x2) #wzór funkcji paraboli"
   ]
  },
  {
   "cell_type": "code",
   "execution_count": 90,
   "metadata": {},
   "outputs": [
    {
     "data": {
      "text/plain": [
       "x |--> (x + 5)*(x - 5)"
      ]
     },
     "execution_count": 90,
     "metadata": {},
     "output_type": "execute_result"
    }
   ],
   "source": [
    "p"
   ]
  },
  {
   "cell_type": "code",
   "execution_count": 177,
   "metadata": {},
   "outputs": [
    {
     "data": {
      "text/plain": [
       "x \\ {\\mapsto}\\ {\\left(x + 5\\right)} {\\left(x - 5\\right)}"
      ]
     },
     "execution_count": 177,
     "metadata": {},
     "output_type": "execute_result"
    }
   ],
   "source": [
    "latex(p)"
   ]
  },
  {
   "cell_type": "code",
   "execution_count": 120,
   "metadata": {},
   "outputs": [
    {
     "name": "stdout",
     "output_type": "stream",
     "text": [
      "xa= -5 , xb=  3\n",
      "ya=  0 , yb=  -16\n"
     ]
    }
   ],
   "source": [
    "A=choice([-5,-4,-3,-2,-1,0]) #współrzędna iksowa przecięcia paraboli i prostej w punkcie A (chcemy w całkowitym x)\n",
    "B=choice([0,1,2,3,4,5]) #współrzędna iksowa przecięcia paraboli i prostej w punkcie B\n",
    "xa=A\n",
    "xb=B\n",
    "ya=p(A)\n",
    "yb=p(B)\n",
    "print(\"xa=\",xa, \", xb= \", xb)\n",
    "print(\"ya= \", ya, \", yb= \", yb)"
   ]
  },
  {
   "cell_type": "code",
   "execution_count": 121,
   "metadata": {},
   "outputs": [
    {
     "data": {
      "text/plain": [
       "-2"
      ]
     },
     "execution_count": 121,
     "metadata": {},
     "output_type": "execute_result"
    }
   ],
   "source": [
    "a = (yb - ya)/(xb - xa)\n",
    "a"
   ]
  },
  {
   "cell_type": "code",
   "execution_count": 122,
   "metadata": {},
   "outputs": [
    {
     "data": {
      "text/plain": [
       "-10"
      ]
     },
     "execution_count": 122,
     "metadata": {},
     "output_type": "execute_result"
    }
   ],
   "source": [
    "b = ya - a * xa\n",
    "b"
   ]
  },
  {
   "cell_type": "code",
   "execution_count": 124,
   "metadata": {},
   "outputs": [
    {
     "data": {
      "text/plain": [
       "x |--> -2*x - 10"
      ]
     },
     "execution_count": 124,
     "metadata": {},
     "output_type": "execute_result"
    }
   ],
   "source": [
    "y(x) = a*x + b #prosta przecinająca parabolę p(x)\n",
    "y"
   ]
  },
  {
   "cell_type": "code",
   "execution_count": 178,
   "metadata": {},
   "outputs": [
    {
     "data": {
      "text/plain": [
       "x \\ {\\mapsto}\\ -2 \\, x - 10"
      ]
     },
     "execution_count": 178,
     "metadata": {},
     "output_type": "execute_result"
    }
   ],
   "source": [
    "latex(y)"
   ]
  },
  {
   "cell_type": "code",
   "execution_count": 132,
   "metadata": {},
   "outputs": [],
   "source": [
    "#import matplotlib.pyplot as plt\n",
    "#import numpy as np\n",
    "#x=np.linspace(-10,10,1000)\n",
    "#plt.plot(x,p(x))"
   ]
  },
  {
   "cell_type": "code",
   "execution_count": 148,
   "metadata": {},
   "outputs": [
    {
     "data": {
      "image/png": "[encoded data removed]",
      "text/plain": [
       "Graphics object consisting of 3 graphics primitives"
      ]
     },
     "execution_count": 148,
     "metadata": {},
     "output_type": "execute_result"
    }
   ],
   "source": [
    "#punkty przecięcia paraboli i prostej oznaczam zielonymi punktami\n",
    "x = var('x')\n",
    "import numpy as np\n",
    "plot(p(x), (x,-10,10), gridlines='minor', color='red') +  plot(y(x), (x,-10,10)) + list_plot(np.array([[xa,ya], [xb,yb]]), color='green', size=32)"
   ]
  },
  {
   "cell_type": "markdown",
   "metadata": {},
   "source": [
    "# dodatek: jak wygląda takie pole ograniczone parabolą i prostą? Należy obliczyć całkę oznaczoną z paraboli od punktu A do punktu B"
   ]
  },
  {
   "cell_type": "code",
   "execution_count": 149,
   "metadata": {},
   "outputs": [
    {
     "data": {
      "text/plain": [
       "x |--> 1/3*x^3 - 25*x"
      ]
     },
     "execution_count": 149,
     "metadata": {},
     "output_type": "execute_result"
    }
   ],
   "source": [
    "P = p.integral(x)\n",
    "P"
   ]
  },
  {
   "cell_type": "code",
   "execution_count": 179,
   "metadata": {},
   "outputs": [
    {
     "data": {
      "text/plain": [
       "x \\ {\\mapsto}\\ \\frac{1}{3} \\, x^{3} - 25 \\, x"
      ]
     },
     "execution_count": 179,
     "metadata": {},
     "output_type": "execute_result"
    }
   ],
   "source": [
    "latex(P)"
   ]
  },
  {
   "cell_type": "code",
   "execution_count": 155,
   "metadata": {
    "scrolled": true
   },
   "outputs": [
    {
     "data": {
      "text/plain": [
       "-448/3"
      ]
     },
     "execution_count": 155,
     "metadata": {},
     "output_type": "execute_result"
    }
   ],
   "source": [
    "Pole = P(xb) - P(xa)\n",
    "Pole #jeśli obliczone pole ma wartość ujemną to znaczy, że znaduje się ono poniżej osi OX"
   ]
  },
  {
   "cell_type": "code",
   "execution_count": null,
   "metadata": {},
   "outputs": [],
   "source": []
  }
 ],
 "metadata": {
  "kernelspec": {
   "display_name": "SageMath 9.4",
   "language": "sage",
   "name": "sagemath-9.4"
  },
  "language_info": {
   "codemirror_mode": {
    "name": "ipython",
    "version": 3
   },
   "file_extension": ".py",
   "mimetype": "text/x-python",
   "name": "python",
   "nbconvert_exporter": "python",
   "pygments_lexer": "ipython3",
   "version": "3.9.5"
  }
 },
 "nbformat": 4,
 "nbformat_minor": 4
}
