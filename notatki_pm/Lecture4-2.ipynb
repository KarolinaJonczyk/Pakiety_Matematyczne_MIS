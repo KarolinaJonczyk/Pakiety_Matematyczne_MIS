{
 "cells": [
  {
   "cell_type": "markdown",
   "metadata": {},
   "source": [
    "## Pakiety Matematyczne - wykład 4"
   ]
  },
  {
   "cell_type": "markdown",
   "metadata": {},
   "source": [
    "<img src=\"DzienDobry.jpg\">"
   ]
  },
  {
   "cell_type": "markdown",
   "metadata": {},
   "source": [
    "### Rozwiązywanie równań:\n",
    "<ul>\n",
    "<li>Mamy do rozwiązania równanie postaci\n",
    "$$f(x) = g(x).$$\n",
    "<li>Interesują nas te równania, które nie mają rozwiązania\n",
    "analitycznego.\n",
    "<li>Równania te są równoważne równaniom postaci\n",
    "$$F(x) = 0.$$\n",
    "<li>W praktyce szukamy więc miejsc zerowych pewnej funkcji.\n",
    "</ul>"
   ]
  },
  {
   "cell_type": "markdown",
   "metadata": {},
   "source": [
    "### Mamy równanie $\\sin(x)=x+\\frac{1}{2}$. Spróbujemy je rozwiązać."
   ]
  },
  {
   "cell_type": "code",
   "execution_count": 2,
   "metadata": {},
   "outputs": [
    {
     "name": "stdout",
     "output_type": "stream",
     "text": [
      "[0.500000000000000]\n"
     ]
    }
   ],
   "source": [
    "# symbolicznie:\n",
    "import sympy.solvers as sol\n",
    "import sympy as sym\n",
    "import numpy as np\n",
    "from sympy import Symbol\n",
    "import math\n",
    "x = Symbol('x')\n",
    "y=sol.solve(x-0.5, x)\n",
    "print(y)\n"
   ]
  },
  {
   "cell_type": "code",
   "execution_count": 2,
   "metadata": {},
   "outputs": [
    {
     "name": "stdout",
     "output_type": "stream",
     "text": [
      "Help on function solve in module sympy.solvers.solvers:\n",
      "\n",
      "solve(f, *symbols, **flags)\n",
      "    Algebraically solves equations and systems of equations.\n",
      "    \n",
      "    Explanation\n",
      "    ===========\n",
      "    \n",
      "    Currently supported:\n",
      "        - polynomial\n",
      "        - transcendental\n",
      "        - piecewise combinations of the above\n",
      "        - systems of linear and polynomial equations\n",
      "        - systems containing relational expressions\n",
      "    \n",
      "    Examples\n",
      "    ========\n",
      "    \n",
      "    The output varies according to the input and can be seen by example:\n",
      "    \n",
      "        >>> from sympy import solve, Poly, Eq, Function, exp\n",
      "        >>> from sympy.abc import x, y, z, a, b\n",
      "        >>> f = Function('f')\n",
      "    \n",
      "    Boolean or univariate Relational:\n",
      "    \n",
      "        >>> solve(x < 3)\n",
      "        (-oo < x) & (x < 3)\n",
      "    \n",
      "    \n",
      "    To always get a list of solution mappings, use flag dict=True:\n",
      "    \n",
      "        >>> solve(x - 3, dict=True)\n",
      "        [{x: 3}]\n",
      "        >>> sol = solve([x - 3, y - 1], dict=True)\n",
      "        >>> sol\n",
      "        [{x: 3, y: 1}]\n",
      "        >>> sol[0][x]\n",
      "        3\n",
      "        >>> sol[0][y]\n",
      "        1\n",
      "    \n",
      "    \n",
      "    To get a list of *symbols* and set of solution(s) use flag set=True:\n",
      "    \n",
      "        >>> solve([x**2 - 3, y - 1], set=True)\n",
      "        ([x, y], {(-sqrt(3), 1), (sqrt(3), 1)})\n",
      "    \n",
      "    \n",
      "    Single expression and single symbol that is in the expression:\n",
      "    \n",
      "        >>> solve(x - y, x)\n",
      "        [y]\n",
      "        >>> solve(x - 3, x)\n",
      "        [3]\n",
      "        >>> solve(Eq(x, 3), x)\n",
      "        [3]\n",
      "        >>> solve(Poly(x - 3), x)\n",
      "        [3]\n",
      "        >>> solve(x**2 - y**2, x, set=True)\n",
      "        ([x], {(-y,), (y,)})\n",
      "        >>> solve(x**4 - 1, x, set=True)\n",
      "        ([x], {(-1,), (1,), (-I,), (I,)})\n",
      "    \n",
      "    Single expression with no symbol that is in the expression:\n",
      "    \n",
      "        >>> solve(3, x)\n",
      "        []\n",
      "        >>> solve(x - 3, y)\n",
      "        []\n",
      "    \n",
      "    Single expression with no symbol given. In this case, all free *symbols*\n",
      "    will be selected as potential *symbols* to solve for. If the equation is\n",
      "    univariate then a list of solutions is returned; otherwise - as is the case\n",
      "    when *symbols* are given as an iterable of length greater than 1 - a list of\n",
      "    mappings will be returned:\n",
      "    \n",
      "        >>> solve(x - 3)\n",
      "        [3]\n",
      "        >>> solve(x**2 - y**2)\n",
      "        [{x: -y}, {x: y}]\n",
      "        >>> solve(z**2*x**2 - z**2*y**2)\n",
      "        [{x: -y}, {x: y}, {z: 0}]\n",
      "        >>> solve(z**2*x - z**2*y**2)\n",
      "        [{x: y**2}, {z: 0}]\n",
      "    \n",
      "    When an object other than a Symbol is given as a symbol, it is\n",
      "    isolated algebraically and an implicit solution may be obtained.\n",
      "    This is mostly provided as a convenience to save you from replacing\n",
      "    the object with a Symbol and solving for that Symbol. It will only\n",
      "    work if the specified object can be replaced with a Symbol using the\n",
      "    subs method:\n",
      "    \n",
      "    >>> solve(f(x) - x, f(x))\n",
      "    [x]\n",
      "    >>> solve(f(x).diff(x) - f(x) - x, f(x).diff(x))\n",
      "    [x + f(x)]\n",
      "    >>> solve(f(x).diff(x) - f(x) - x, f(x))\n",
      "    [-x + Derivative(f(x), x)]\n",
      "    >>> solve(x + exp(x)**2, exp(x), set=True)\n",
      "    ([exp(x)], {(-sqrt(-x),), (sqrt(-x),)})\n",
      "    \n",
      "    >>> from sympy import Indexed, IndexedBase, Tuple, sqrt\n",
      "    >>> A = IndexedBase('A')\n",
      "    >>> eqs = Tuple(A[1] + A[2] - 3, A[1] - A[2] + 1)\n",
      "    >>> solve(eqs, eqs.atoms(Indexed))\n",
      "    {A[1]: 1, A[2]: 2}\n",
      "    \n",
      "        * To solve for a symbol implicitly, use implicit=True:\n",
      "    \n",
      "            >>> solve(x + exp(x), x)\n",
      "            [-LambertW(1)]\n",
      "            >>> solve(x + exp(x), x, implicit=True)\n",
      "            [-exp(x)]\n",
      "    \n",
      "        * It is possible to solve for anything that can be targeted with\n",
      "          subs:\n",
      "    \n",
      "            >>> solve(x + 2 + sqrt(3), x + 2)\n",
      "            [-sqrt(3)]\n",
      "            >>> solve((x + 2 + sqrt(3), x + 4 + y), y, x + 2)\n",
      "            {y: -2 + sqrt(3), x + 2: -sqrt(3)}\n",
      "    \n",
      "        * Nothing heroic is done in this implicit solving so you may end up\n",
      "          with a symbol still in the solution:\n",
      "    \n",
      "            >>> eqs = (x*y + 3*y + sqrt(3), x + 4 + y)\n",
      "            >>> solve(eqs, y, x + 2)\n",
      "            {y: -sqrt(3)/(x + 3), x + 2: -2*x/(x + 3) - 6/(x + 3) + sqrt(3)/(x + 3)}\n",
      "            >>> solve(eqs, y*x, x)\n",
      "            {x: -y - 4, x*y: -3*y - sqrt(3)}\n",
      "    \n",
      "        * If you attempt to solve for a number remember that the number\n",
      "          you have obtained does not necessarily mean that the value is\n",
      "          equivalent to the expression obtained:\n",
      "    \n",
      "            >>> solve(sqrt(2) - 1, 1)\n",
      "            [sqrt(2)]\n",
      "            >>> solve(x - y + 1, 1)  # /!\\ -1 is targeted, too\n",
      "            [x/(y - 1)]\n",
      "            >>> [_.subs(z, -1) for _ in solve((x - y + 1).subs(-1, z), 1)]\n",
      "            [-x + y]\n",
      "    \n",
      "        * To solve for a function within a derivative, use ``dsolve``.\n",
      "    \n",
      "    Single expression and more than one symbol:\n",
      "    \n",
      "        * When there is a linear solution:\n",
      "    \n",
      "            >>> solve(x - y**2, x, y)\n",
      "            [(y**2, y)]\n",
      "            >>> solve(x**2 - y, x, y)\n",
      "            [(x, x**2)]\n",
      "            >>> solve(x**2 - y, x, y, dict=True)\n",
      "            [{y: x**2}]\n",
      "    \n",
      "        * When undetermined coefficients are identified:\n",
      "    \n",
      "            * That are linear:\n",
      "    \n",
      "                >>> solve((a + b)*x - b + 2, a, b)\n",
      "                {a: -2, b: 2}\n",
      "    \n",
      "            * That are nonlinear:\n",
      "    \n",
      "                >>> solve((a + b)*x - b**2 + 2, a, b, set=True)\n",
      "                ([a, b], {(-sqrt(2), sqrt(2)), (sqrt(2), -sqrt(2))})\n",
      "    \n",
      "        * If there is no linear solution, then the first successful\n",
      "          attempt for a nonlinear solution will be returned:\n",
      "    \n",
      "            >>> solve(x**2 - y**2, x, y, dict=True)\n",
      "            [{x: -y}, {x: y}]\n",
      "            >>> solve(x**2 - y**2/exp(x), x, y, dict=True)\n",
      "            [{x: 2*LambertW(-y/2)}, {x: 2*LambertW(y/2)}]\n",
      "            >>> solve(x**2 - y**2/exp(x), y, x)\n",
      "            [(-x*sqrt(exp(x)), x), (x*sqrt(exp(x)), x)]\n",
      "    \n",
      "    Iterable of one or more of the above:\n",
      "    \n",
      "        * Involving relationals or bools:\n",
      "    \n",
      "            >>> solve([x < 3, x - 2])\n",
      "            Eq(x, 2)\n",
      "            >>> solve([x > 3, x - 2])\n",
      "            False\n",
      "    \n",
      "        * When the system is linear:\n",
      "    \n",
      "            * With a solution:\n",
      "    \n",
      "                >>> solve([x - 3], x)\n",
      "                {x: 3}\n",
      "                >>> solve((x + 5*y - 2, -3*x + 6*y - 15), x, y)\n",
      "                {x: -3, y: 1}\n",
      "                >>> solve((x + 5*y - 2, -3*x + 6*y - 15), x, y, z)\n",
      "                {x: -3, y: 1}\n",
      "                >>> solve((x + 5*y - 2, -3*x + 6*y - z), z, x, y)\n",
      "                {x: 2 - 5*y, z: 21*y - 6}\n",
      "    \n",
      "            * Without a solution:\n",
      "    \n",
      "                >>> solve([x + 3, x - 3])\n",
      "                []\n",
      "    \n",
      "        * When the system is not linear:\n",
      "    \n",
      "            >>> solve([x**2 + y -2, y**2 - 4], x, y, set=True)\n",
      "            ([x, y], {(-2, -2), (0, 2), (2, -2)})\n",
      "    \n",
      "        * If no *symbols* are given, all free *symbols* will be selected and a\n",
      "          list of mappings returned:\n",
      "    \n",
      "            >>> solve([x - 2, x**2 + y])\n",
      "            [{x: 2, y: -4}]\n",
      "            >>> solve([x - 2, x**2 + f(x)], {f(x), x})\n",
      "            [{x: 2, f(x): -4}]\n",
      "    \n",
      "        * If any equation does not depend on the symbol(s) given, it will be\n",
      "          eliminated from the equation set and an answer may be given\n",
      "          implicitly in terms of variables that were not of interest:\n",
      "    \n",
      "            >>> solve([x - y, y - 3], x)\n",
      "            {x: y}\n",
      "    \n",
      "    **Additional Examples**\n",
      "    \n",
      "    ``solve()`` with check=True (default) will run through the symbol tags to\n",
      "    elimate unwanted solutions. If no assumptions are included, all possible\n",
      "    solutions will be returned:\n",
      "    \n",
      "        >>> from sympy import Symbol, solve\n",
      "        >>> x = Symbol(\"x\")\n",
      "        >>> solve(x**2 - 1)\n",
      "        [-1, 1]\n",
      "    \n",
      "    By using the positive tag, only one solution will be returned:\n",
      "    \n",
      "        >>> pos = Symbol(\"pos\", positive=True)\n",
      "        >>> solve(pos**2 - 1)\n",
      "        [1]\n",
      "    \n",
      "    Assumptions are not checked when ``solve()`` input involves\n",
      "    relationals or bools.\n",
      "    \n",
      "    When the solutions are checked, those that make any denominator zero\n",
      "    are automatically excluded. If you do not want to exclude such solutions,\n",
      "    then use the check=False option:\n",
      "    \n",
      "        >>> from sympy import sin, limit\n",
      "        >>> solve(sin(x)/x)  # 0 is excluded\n",
      "        [pi]\n",
      "    \n",
      "    If check=False, then a solution to the numerator being zero is found: x = 0.\n",
      "    In this case, this is a spurious solution since $\\sin(x)/x$ has the well\n",
      "    known limit (without dicontinuity) of 1 at x = 0:\n",
      "    \n",
      "        >>> solve(sin(x)/x, check=False)\n",
      "        [0, pi]\n",
      "    \n",
      "    In the following case, however, the limit exists and is equal to the\n",
      "    value of x = 0 that is excluded when check=True:\n",
      "    \n",
      "        >>> eq = x**2*(1/x - z**2/x)\n",
      "        >>> solve(eq, x)\n",
      "        []\n",
      "        >>> solve(eq, x, check=False)\n",
      "        [0]\n",
      "        >>> limit(eq, x, 0, '-')\n",
      "        0\n",
      "        >>> limit(eq, x, 0, '+')\n",
      "        0\n",
      "    \n",
      "    **Disabling High-Order Explicit Solutions**\n",
      "    \n",
      "    When solving polynomial expressions, you might not want explicit solutions\n",
      "    (which can be quite long). If the expression is univariate, ``CRootOf``\n",
      "    instances will be returned instead:\n",
      "    \n",
      "        >>> solve(x**3 - x + 1)\n",
      "        [-1/((-1/2 - sqrt(3)*I/2)*(3*sqrt(69)/2 + 27/2)**(1/3)) - (-1/2 -\n",
      "        sqrt(3)*I/2)*(3*sqrt(69)/2 + 27/2)**(1/3)/3, -(-1/2 +\n",
      "        sqrt(3)*I/2)*(3*sqrt(69)/2 + 27/2)**(1/3)/3 - 1/((-1/2 +\n",
      "        sqrt(3)*I/2)*(3*sqrt(69)/2 + 27/2)**(1/3)), -(3*sqrt(69)/2 +\n",
      "        27/2)**(1/3)/3 - 1/(3*sqrt(69)/2 + 27/2)**(1/3)]\n",
      "        >>> solve(x**3 - x + 1, cubics=False)\n",
      "        [CRootOf(x**3 - x + 1, 0),\n",
      "         CRootOf(x**3 - x + 1, 1),\n",
      "         CRootOf(x**3 - x + 1, 2)]\n",
      "    \n",
      "    If the expression is multivariate, no solution might be returned:\n",
      "    \n",
      "        >>> solve(x**3 - x + a, x, cubics=False)\n",
      "        []\n",
      "    \n",
      "    Sometimes solutions will be obtained even when a flag is False because the\n",
      "    expression could be factored. In the following example, the equation can\n",
      "    be factored as the product of a linear and a quadratic factor so explicit\n",
      "    solutions (which did not require solving a cubic expression) are obtained:\n",
      "    \n",
      "        >>> eq = x**3 + 3*x**2 + x - 1\n",
      "        >>> solve(eq, cubics=False)\n",
      "        [-1, -1 + sqrt(2), -sqrt(2) - 1]\n",
      "    \n",
      "    **Solving Equations Involving Radicals**\n",
      "    \n",
      "    Because of SymPy's use of the principle root, some solutions\n",
      "    to radical equations will be missed unless check=False:\n",
      "    \n",
      "        >>> from sympy import root\n",
      "        >>> eq = root(x**3 - 3*x**2, 3) + 1 - x\n",
      "        >>> solve(eq)\n",
      "        []\n",
      "        >>> solve(eq, check=False)\n",
      "        [1/3]\n",
      "    \n",
      "    In the above example, there is only a single solution to the\n",
      "    equation. Other expressions will yield spurious roots which\n",
      "    must be checked manually; roots which give a negative argument\n",
      "    to odd-powered radicals will also need special checking:\n",
      "    \n",
      "        >>> from sympy import real_root, S\n",
      "        >>> eq = root(x, 3) - root(x, 5) + S(1)/7\n",
      "        >>> solve(eq)  # this gives 2 solutions but misses a 3rd\n",
      "        [CRootOf(7*x**5 - 7*x**3 + 1, 1)**15,\n",
      "        CRootOf(7*x**5 - 7*x**3 + 1, 2)**15]\n",
      "        >>> sol = solve(eq, check=False)\n",
      "        >>> [abs(eq.subs(x,i).n(2)) for i in sol]\n",
      "        [0.48, 0.e-110, 0.e-110, 0.052, 0.052]\n",
      "    \n",
      "    The first solution is negative so ``real_root`` must be used to see that it\n",
      "    satisfies the expression:\n",
      "    \n",
      "        >>> abs(real_root(eq.subs(x, sol[0])).n(2))\n",
      "        0.e-110\n",
      "    \n",
      "    If the roots of the equation are not real then more care will be\n",
      "    necessary to find the roots, especially for higher order equations.\n",
      "    Consider the following expression:\n",
      "    \n",
      "        >>> expr = root(x, 3) - root(x, 5)\n",
      "    \n",
      "    We will construct a known value for this expression at x = 3 by selecting\n",
      "    the 1-th root for each radical:\n",
      "    \n",
      "        >>> expr1 = root(x, 3, 1) - root(x, 5, 1)\n",
      "        >>> v = expr1.subs(x, -3)\n",
      "    \n",
      "    The ``solve`` function is unable to find any exact roots to this equation:\n",
      "    \n",
      "        >>> eq = Eq(expr, v); eq1 = Eq(expr1, v)\n",
      "        >>> solve(eq, check=False), solve(eq1, check=False)\n",
      "        ([], [])\n",
      "    \n",
      "    The function ``unrad``, however, can be used to get a form of the equation\n",
      "    for which numerical roots can be found:\n",
      "    \n",
      "        >>> from sympy.solvers.solvers import unrad\n",
      "        >>> from sympy import nroots\n",
      "        >>> e, (p, cov) = unrad(eq)\n",
      "        >>> pvals = nroots(e)\n",
      "        >>> inversion = solve(cov, x)[0]\n",
      "        >>> xvals = [inversion.subs(p, i) for i in pvals]\n",
      "    \n",
      "    Although ``eq`` or ``eq1`` could have been used to find ``xvals``, the\n",
      "    solution can only be verified with ``expr1``:\n",
      "    \n",
      "        >>> z = expr - v\n",
      "        >>> [xi.n(chop=1e-9) for xi in xvals if abs(z.subs(x, xi).n()) < 1e-9]\n",
      "        []\n",
      "        >>> z1 = expr1 - v\n",
      "        >>> [xi.n(chop=1e-9) for xi in xvals if abs(z1.subs(x, xi).n()) < 1e-9]\n",
      "        [-3.0]\n",
      "    \n",
      "    Parameters\n",
      "    ==========\n",
      "    \n",
      "    f :\n",
      "        - a single Expr or Poly that must be zero\n",
      "        - an Equality\n",
      "        - a Relational expression\n",
      "        - a Boolean\n",
      "        - iterable of one or more of the above\n",
      "    \n",
      "    symbols : (object(s) to solve for) specified as\n",
      "        - none given (other non-numeric objects will be used)\n",
      "        - single symbol\n",
      "        - denested list of symbols\n",
      "          (e.g., ``solve(f, x, y)``)\n",
      "        - ordered iterable of symbols\n",
      "          (e.g., ``solve(f, [x, y])``)\n",
      "    \n",
      "    flags :\n",
      "        dict=True (default is False)\n",
      "            Return list (perhaps empty) of solution mappings.\n",
      "        set=True (default is False)\n",
      "            Return list of symbols and set of tuple(s) of solution(s).\n",
      "        exclude=[] (default)\n",
      "            Do not try to solve for any of the free symbols in exclude;\n",
      "            if expressions are given, the free symbols in them will\n",
      "            be extracted automatically.\n",
      "        check=True (default)\n",
      "            If False, do not do any testing of solutions. This can be\n",
      "            useful if you want to include solutions that make any\n",
      "            denominator zero.\n",
      "        numerical=True (default)\n",
      "            Do a fast numerical check if *f* has only one symbol.\n",
      "        minimal=True (default is False)\n",
      "            A very fast, minimal testing.\n",
      "        warn=True (default is False)\n",
      "            Show a warning if ``checksol()`` could not conclude.\n",
      "        simplify=True (default)\n",
      "            Simplify all but polynomials of order 3 or greater before\n",
      "            returning them and (if check is not False) use the\n",
      "            general simplify function on the solutions and the\n",
      "            expression obtained when they are substituted into the\n",
      "            function which should be zero.\n",
      "        force=True (default is False)\n",
      "            Make positive all symbols without assumptions regarding sign.\n",
      "        rational=True (default)\n",
      "            Recast Floats as Rational; if this option is not used, the\n",
      "            system containing Floats may fail to solve because of issues\n",
      "            with polys. If rational=None, Floats will be recast as\n",
      "            rationals but the answer will be recast as Floats. If the\n",
      "            flag is False then nothing will be done to the Floats.\n",
      "        manual=True (default is False)\n",
      "            Do not use the polys/matrix method to solve a system of\n",
      "            equations, solve them one at a time as you might \"manually.\"\n",
      "        implicit=True (default is False)\n",
      "            Allows ``solve`` to return a solution for a pattern in terms of\n",
      "            other functions that contain that pattern; this is only\n",
      "            needed if the pattern is inside of some invertible function\n",
      "            like cos, exp, ect.\n",
      "        particular=True (default is False)\n",
      "            Instructs ``solve`` to try to find a particular solution to a linear\n",
      "            system with as many zeros as possible; this is very expensive.\n",
      "        quick=True (default is False)\n",
      "            When using particular=True, use a fast heuristic to find a\n",
      "            solution with many zeros (instead of using the very slow method\n",
      "            guaranteed to find the largest number of zeros possible).\n",
      "        cubics=True (default)\n",
      "            Return explicit solutions when cubic expressions are encountered.\n",
      "        quartics=True (default)\n",
      "            Return explicit solutions when quartic expressions are encountered.\n",
      "        quintics=True (default)\n",
      "            Return explicit solutions (if possible) when quintic expressions\n",
      "            are encountered.\n",
      "    \n",
      "    See Also\n",
      "    ========\n",
      "    \n",
      "    rsolve: For solving recurrence relationships\n",
      "    dsolve: For solving differential equations\n",
      "\n"
     ]
    }
   ],
   "source": [
    "help(sol.solve)"
   ]
  },
  {
   "cell_type": "code",
   "execution_count": 10,
   "metadata": {},
   "outputs": [
    {
     "data": {
      "image/png": "[encoded data removed]",
      "text/plain": [
       "<Figure size 432x288 with 1 Axes>"
      ]
     },
     "metadata": {
      "needs_background": "light"
     },
     "output_type": "display_data"
    }
   ],
   "source": [
    "import matplotlib.pyplot as plt\n",
    "x=np.linspace(-4,2,1000)\n",
    "y=np.sin(x)\n",
    "plt.plot(x,y,x,x+0.5)\n",
    "plt.show()"
   ]
  },
  {
   "cell_type": "code",
   "execution_count": 4,
   "metadata": {},
   "outputs": [
    {
     "data": {
      "text/plain": [
       "[-3, 3]"
      ]
     },
     "execution_count": 4,
     "metadata": {},
     "output_type": "execute_result"
    }
   ],
   "source": [
    "x = Symbol('x')\n",
    "sol.solve(x*x-9,x)"
   ]
  },
  {
   "cell_type": "code",
   "execution_count": 5,
   "metadata": {},
   "outputs": [
    {
     "data": {
      "text/plain": [
       "0.0025050133959455545"
      ]
     },
     "execution_count": 5,
     "metadata": {},
     "output_type": "execute_result"
    }
   ],
   "source": [
    "#funkcja lambda (czyli definiowanie własnej funkcji w jednej linijce)\n",
    "f = lambda a : np.sin(a) - a-0.5\n",
    "#sprawdźmy, że działa:\n",
    "f(-1.5)"
   ]
  },
  {
   "cell_type": "code",
   "execution_count": 8,
   "metadata": {},
   "outputs": [
    {
     "data": {
      "text/plain": [
       "False"
      ]
     },
     "execution_count": 8,
     "metadata": {},
     "output_type": "execute_result"
    }
   ],
   "source": [
    "x=np.linspace(-4,2,1000)\n",
    "y1=np.sin(x)\n",
    "y2=x-0.5\n",
    "(y1==y2).any()"
   ]
  },
  {
   "cell_type": "markdown",
   "metadata": {},
   "source": [
    "### Metoda Bisekcji\n",
    "<ol>\n",
    "    <li>Szukamy dwóch punktów $a$ i $b$ tak, aby $F(a) ∗ F(b) < 0$.\n",
    "    <li>Liczymy $c=\\frac{a+b}{2}$.\n",
    "    <li>Jeśli $F(c) ≈ 0$ to znaleźliśmy miejsce zerowe (koniec).\n",
    "    <li>Jeśli $F(a) ∗ F(c) < 0$ to podstawiamy $b = c$.\n",
    "    <li>Jeśli nie, to $F(c) ∗ F(b) < 0$ i podstawiamy $a = c$.\n",
    "    <li>Wracamy do punktu drugiego algorytmu.\n",
    "</ol>"
   ]
  },
  {
   "cell_type": "code",
   "execution_count": 67,
   "metadata": {},
   "outputs": [
    {
     "data": {
      "text/plain": [
       "-1.4973182678222656"
      ]
     },
     "execution_count": 67,
     "metadata": {},
     "output_type": "execute_result"
    }
   ],
   "source": [
    "# Uwaga: nie zadziała, bo Państwo nie macie funkcji Bisekcja\n",
    "%run Bisekcja.py\n",
    "Bisekcja(f,-2,5,dokladnosc=0.0001)\n",
    "#OUT:   -1.4973182678222656"
   ]
  },
  {
   "cell_type": "markdown",
   "metadata": {},
   "source": [
    "### Metoda Newtona\n",
    "<ol>\n",
    "<li> Przyjmujemy jakiś punkt startowy $x_0$.\n",
    "<li> Jeśli $F(x_0) ≈ 0$ to znaleźliśmy miejsce zerowe (koniec).\n",
    "<li> W punkcie $x_0$ znajdujemy styczną do $F(x)$.\n",
    "<li> Znajdujemy miejsce przecięcia stycznej z osią OX\n",
    "i przyjmujemy za nowe $x_0$.\n",
    "<li> Wracamy do punktu drugiego algorytmu.\n",
    "</ol>"
   ]
  },
  {
   "cell_type": "code",
   "execution_count": 12,
   "metadata": {},
   "outputs": [],
   "source": [
    "#definiujemy pochodną naszej funkcji (na razie ręcznie)\n",
    "f = lambda a : np.sin(a) - a-0.5\n",
    "fp = lambda a : np.cos(a)-1"
   ]
  },
  {
   "cell_type": "code",
   "execution_count": 13,
   "metadata": {},
   "outputs": [
    {
     "data": {
      "text/plain": [
       "-1.4973528860447223"
      ]
     },
     "execution_count": 13,
     "metadata": {},
     "output_type": "execute_result"
    }
   ],
   "source": [
    "# Uwaga: nie zadziała, bo Państwo nie macie funkcji Newton\n",
    "%run Newton.py\n",
    "Newton(f,fp,1,dokladnosc=0.0001)\n",
    "#OUT: -1.4973528860447223"
   ]
  },
  {
   "cell_type": "code",
   "execution_count": 20,
   "metadata": {},
   "outputs": [
    {
     "name": "stdout",
     "output_type": "stream",
     "text": [
      "( -1.4973003890958945 , 1.9984014443252818e-15 )\n"
     ]
    },
    {
     "data": {
      "image/png": "[encoded data removed]",
      "text/plain": [
       "<Figure size 432x288 with 1 Axes>"
      ]
     },
     "metadata": {
      "needs_background": "light"
     },
     "output_type": "display_data"
    }
   ],
   "source": [
    "x0=Newton(f,fp,-1,dokladnosc=0.00000000000004,rysuj=True)\n",
    "print(\"(\",x0,\",\",f(x0),\")\")"
   ]
  },
  {
   "cell_type": "code",
   "execution_count": 15,
   "metadata": {},
   "outputs": [
    {
     "data": {
      "image/png": "[encoded data removed]",
      "text/plain": [
       "<Figure size 432x288 with 1 Axes>"
      ]
     },
     "metadata": {
      "needs_background": "light"
     },
     "output_type": "display_data"
    }
   ],
   "source": [
    "x=np.linspace(-4,2,1000)\n",
    "y=np.sin(x)-x-0.5\n",
    "plt.plot(x,y)\n",
    "plt.grid()\n",
    "plt.show()"
   ]
  },
  {
   "cell_type": "code",
   "execution_count": 21,
   "metadata": {},
   "outputs": [],
   "source": [
    "#Ładniejsza funkcja:\n",
    "f = lambda a : a*a\n",
    "fp = lambda a : 2*a"
   ]
  },
  {
   "cell_type": "code",
   "execution_count": 24,
   "metadata": {},
   "outputs": [
    {
     "name": "stdout",
     "output_type": "stream",
     "text": [
      "( 0.03125 , 0.0009765625 )\n"
     ]
    },
    {
     "data": {
      "image/png": "[encoded data removed]",
      "text/plain": [
       "<Figure size 432x288 with 1 Axes>"
      ]
     },
     "metadata": {
      "needs_background": "light"
     },
     "output_type": "display_data"
    }
   ],
   "source": [
    "x0=Newton(f,fp,1,dokladnosc=0.001,rysuj=True)\n",
    "print(\"(\",x0,\",\",f(x0),\")\")"
   ]
  },
  {
   "cell_type": "markdown",
   "metadata": {},
   "source": [
    "<img src=\"Newton5.jpg\">"
   ]
  },
  {
   "cell_type": "code",
   "execution_count": 71,
   "metadata": {},
   "outputs": [
    {
     "data": {
      "text/plain": [
       "array([-1.498])"
      ]
     },
     "execution_count": 71,
     "metadata": {},
     "output_type": "execute_result"
    }
   ],
   "source": [
    "f = lambda a : np.sin(a) - a-0.5\n",
    "x=np.linspace(-1.5,-1.4,101)\n",
    "y=np.sin(x)-x-0.5\n",
    "#x[np.abs(y)<0.005]\n",
    "idx=(np.diff(np.sign(y))!=0)\n",
    "idx=(list(idx))\n",
    "idx.append(False)\n",
    "x[idx]"
   ]
  },
  {
   "cell_type": "code",
   "execution_count": null,
   "metadata": {},
   "outputs": [],
   "source": []
  },
  {
   "cell_type": "markdown",
   "metadata": {},
   "source": [
    "### Rząd metody\n",
    "<b>Uwaga</b> (Intuicje)<BR>\n",
    "Rząd zbieżności metody niesie informację o tym, jak szybko\n",
    "numeryczne rozwiązanie przybliżone zbliża się do rozwiązania\n",
    "dokładnego. Im wyższy, tym lepiej (tym teoretycznie szybciej\n",
    "otrzymamy rozwiązanie).\n",
    "\n",
    "<b>Definicja</b> (metody iteracyjne)<BR>\n",
    "Niech $\\Phi : R \\to R$ będzie pewną metodą iteracyjną poszukiwania\n",
    "pierwiastków funkcji $f(x)$, czyli ciąg iteracji jest wyznaczany przez\n",
    "$x_{n+1} = \\Phi(x_n)$. Oznaczmy przez $\\alpha$ szukane miejsce zerowe (czyli\n",
    "$f(\\alpha) = 0$) i załóżmy, że $\\lim_{n\\to\\infty}x_n = \\alpha$.\n",
    "\n",
    "Liczbę rzeczywistą $p > 0$ nazywamy rzędem metody numerycznej\n",
    "$\\Phi$, jeżeli\n",
    "$\\lim_{n\\to\\infty}\\frac{|x_{n+1} − \\alpha|}{|x_n-\\alpha|^p}=C\\neq0$ \n",
    "dla pewnej stałej $C$.<br>\n",
    "Inaczej<br>\n",
    "$\\forall n\\in N\\quad |x_{n+1} − \\alpha| \\leq C|x_n − \\alpha|^p$.\n"
   ]
  },
  {
   "cell_type": "markdown",
   "metadata": {},
   "source": [
    "<B>Przykład</B> (Metoda bisekcji)<br>\n",
    "$|x_{n+1} − \\alpha| < \\frac{1}{2}|x_n − \\alpha|^1$"
   ]
  },
  {
   "cell_type": "markdown",
   "metadata": {},
   "source": [
    "<B>Przykład</B>\n",
    "Załóżmy, że mamy dwie metody $\\Phi_1$ rzędu 1 oraz $\\Phi_{11}$ rzędu 2.\n",
    "Załóżmy, że każdą z nich znaleźliśmy rozwiązanie z dokładnością\n",
    "do $\\varepsilon = 0.1$ (oraz stałe $C$ wynoszą 0.5 dla obu metod).\n",
    "Wtedy w kolejnym kroku błąd metody $\\Phi_1$ zmaleje do\n",
    "$C · \\varepsilon^1 = 0.05$, a błąd metody $\\Phi_{11}$ wyniesie $C · \\varepsilon^2 = 0.005$."
   ]
  },
  {
   "cell_type": "markdown",
   "metadata": {},
   "source": [
    "### Graficzne wyznaczanie rzędu metody\n",
    "Do czego dąży wyrażenie\n",
    "$\\frac{\\ln |x_{n+1} − \\alpha|}{\\ln |x_n − \\alpha|}$\n",
    "przy $n\\to\\infty$?"
   ]
  },
  {
   "cell_type": "code",
   "execution_count": 72,
   "metadata": {},
   "outputs": [
    {
     "data": {
      "image/png": "[encoded data removed]",
      "text/plain": [
       "<Figure size 432x288 with 1 Axes>"
      ]
     },
     "metadata": {
      "needs_background": "light"
     },
     "output_type": "display_data"
    }
   ],
   "source": [
    "import numpy as np\n",
    "import matplotlib.pyplot as plt\n",
    "x=[10,5,2.5,1.2,0.6,0.29,0.15,0.075] # lista kolejnych iteracji rozwiązania przybliżonego\n",
    "alfa=0\n",
    "y=[np.log(x[i+1]-alfa)/np.log(x[i]-alfa) for i in range(0,7)]\n",
    "plt.plot(y)\n",
    "plt.show()"
   ]
  },
  {
   "cell_type": "code",
   "execution_count": null,
   "metadata": {},
   "outputs": [],
   "source": []
  },
  {
   "cell_type": "code",
   "execution_count": null,
   "metadata": {},
   "outputs": [],
   "source": []
  },
  {
   "cell_type": "code",
   "execution_count": null,
   "metadata": {},
   "outputs": [],
   "source": []
  },
  {
   "cell_type": "code",
   "execution_count": null,
   "metadata": {},
   "outputs": [],
   "source": []
  },
  {
   "cell_type": "code",
   "execution_count": null,
   "metadata": {},
   "outputs": [],
   "source": []
  },
  {
   "cell_type": "code",
   "execution_count": null,
   "metadata": {},
   "outputs": [],
   "source": []
  },
  {
   "cell_type": "code",
   "execution_count": null,
   "metadata": {},
   "outputs": [],
   "source": []
  },
  {
   "cell_type": "code",
   "execution_count": null,
   "metadata": {},
   "outputs": [],
   "source": []
  }
 ],
 "metadata": {
  "kernelspec": {
   "display_name": "Python 3",
   "language": "python",
   "name": "python3"
  },
  "language_info": {
   "codemirror_mode": {
    "name": "ipython",
    "version": 3
   },
   "file_extension": ".py",
   "mimetype": "text/x-python",
   "name": "python",
   "nbconvert_exporter": "python",
   "pygments_lexer": "ipython3",
   "version": "3.8.8"
  }
 },
 "nbformat": 4,
 "nbformat_minor": 4
}
